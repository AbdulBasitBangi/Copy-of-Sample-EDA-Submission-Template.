{
  "nbformat": 4,
  "nbformat_minor": 0,
  "metadata": {
    "colab": {
      "private_outputs": true,
      "provenance": [],
      "collapsed_sections": [
        "gIfDvo9L0UH2"
      ]
    },
    "kernelspec": {
      "name": "python3",
      "display_name": "Python 3"
    },
    "language_info": {
      "name": "python"
    }
  },
  "cells": [
    {
      "cell_type": "markdown",
      "source": [
        "# **Project Name**    -\n",
        "\n"
      ],
      "metadata": {
        "id": "vncDsAP0Gaoa"
      }
    },
    {
      "cell_type": "markdown",
      "source": [
        "##### **Project Type**    - EDA\n",
        "##### **Contribution**    - Individual"
      ],
      "metadata": {
        "id": "beRrZCGUAJYm"
      }
    },
    {
      "cell_type": "markdown",
      "source": [
        "# **Project Summary -**"
      ],
      "metadata": {
        "id": "FJNUwmbgGyua"
      }
    },
    {
      "cell_type": "markdown",
      "source": [
        "Write the summary here within 500-600 words."
      ],
      "metadata": {
        "id": "F6v_1wHtG2nS"
      }
    },
    {
      "cell_type": "markdown",
      "metadata": {
        "id": "DlbsMecusYSx"
      },
      "source": [
        "* Android is most popular Operating System with 2.5 Billion active user. Android is the dominant mobile operating system today with about 85% of all mobile devices running Google’s OS. The Google Play Store is the largest and most popular Android app store.\n",
        "\n",
        "* Play Store apps data has enormous potential to drive app-making businesses to success. Actionable insights can be drawn for developers to work on and capture the Android market.\n",
        "\n",
        "* Goals of Project - The purpose of our project was to gather and analyze detailed information on apps in the Google Play Store in order to provide insights on app features and the current state of the Android app market.\n",
        "\n",
        "* The Objective of our project to Explore and analyse the Data to discover key factor responsible for app engagement and recommend best fit and features that would lead to app success\n",
        "\n",
        "* I have tried to discover the relationships among various attributes such as which application installs,application is free or paid, what are the user reviews, rating of the applicationetc.\n",
        "\n",
        "* The data shared has each value(Row) has values for Category, Review, Rating, Size etc. with 10841 Rows and 13 Columns."
      ]
    },
    {
      "cell_type": "markdown",
      "source": [
        "# **GitHub Link -**"
      ],
      "metadata": {
        "id": "w6K7xa23Elo4"
      }
    },
    {
      "cell_type": "markdown",
      "source": [
        "https://github.com/AbdulBasitBangi"
      ],
      "metadata": {
        "id": "h1o69JH3Eqqn"
      }
    },
    {
      "cell_type": "markdown",
      "source": [
        "# **Problem Statement**\n"
      ],
      "metadata": {
        "id": "yQaldy8SH6Dl"
      }
    },
    {
      "cell_type": "markdown",
      "source": [
        "Android is expanding as an operating system. It has captured around 74% of the total market which is a true indicator of the huge amount of population using android. Our goal is to help android developers to know what is the motivating factor for people to download an app. It will also help to find out the factors that affect someone’s decision to download an app. I would like to analyse category, reviews, price, ratings and installs for this purpose and find out how they are inter related.\n",
        "There have some Problem Statements that are very useful for finding the insight from given Dataset -\n",
        "\n",
        "Which category has most number of installations.\n",
        "Top 5 app with the maximum installation.\n",
        "Top 5 poor app in refrence of installation.\n",
        "How Rating is important for Application.\n",
        "Top Category on Play Store.\n",
        "Find number of app in refrence of Free or Paid."
      ],
      "metadata": {
        "id": "DpeJGUA3kjGy"
      }
    },
    {
      "cell_type": "markdown",
      "source": [
        "#### **Define Your Business Objective?**"
      ],
      "metadata": {
        "id": "PH-0ReGfmX4f"
      }
    },
    {
      "cell_type": "markdown",
      "source": [
        "*   The objective of my analysis is to provide insights about android applications and their categories.\n",
        "*   To deep dive in data for the factors in an application, to know why and how certain applications succeed and others.\n",
        "\n",
        "*   Finding the key factors that are responsible for app engagement.\n",
        "\n",
        "*   Study the detailed information of apps and analyse them.\n",
        "\n",
        "*   Finding which attributes are most important for application.\n",
        "*   Also, what is required for an application to be considered as successfully topping the charts.\n",
        "\n",
        "\n",
        "\n"
      ],
      "metadata": {
        "id": "PhDvGCAqmjP1"
      }
    },
    {
      "cell_type": "markdown",
      "source": [
        "# **General Guidelines** : -  "
      ],
      "metadata": {
        "id": "mDgbUHAGgjLW"
      }
    },
    {
      "cell_type": "markdown",
      "source": [
        "1.   Well-structured, formatted, and commented code is required.\n",
        "2.   Exception Handling, Production Grade Code & Deployment Ready Code will be a plus. Those students will be awarded some additional credits.\n",
        "     \n",
        "     The additional credits will have advantages over other students during Star Student selection.\n",
        "       \n",
        "             [ Note: - Deployment Ready Code is defined as, the whole .ipynb notebook should be executable in one go\n",
        "                       without a single error logged. ]\n",
        "\n",
        "3.   Each and every logic should have proper comments.\n",
        "4. You may add as many number of charts you want. Make Sure for each and every chart the following format should be answered.\n",
        "        \n",
        "\n",
        "```\n",
        "# Chart visualization code\n",
        "```\n",
        "            \n",
        "\n",
        "*   Why did you pick the specific chart?\n",
        "*   What is/are the insight(s) found from the chart?\n",
        "* Will the gained insights help creating a positive business impact?\n",
        "Are there any insights that lead to negative growth? Justify with specific reason.\n",
        "\n",
        "5. You have to create at least 20 logical & meaningful charts having important insights.\n",
        "\n",
        "\n",
        "[ Hints : - Do the Vizualization in  a structured way while following \"UBM\" Rule.\n",
        "\n",
        "U - Univariate Analysis,\n",
        "\n",
        "B - Bivariate Analysis (Numerical - Categorical, Numerical - Numerical, Categorical - Categorical)\n",
        "\n",
        "M - Multivariate Analysis\n",
        " ]\n",
        "\n",
        "\n",
        "\n"
      ],
      "metadata": {
        "id": "ZrxVaUj-hHfC"
      }
    },
    {
      "cell_type": "markdown",
      "source": [
        "# ***Let's Begin !***"
      ],
      "metadata": {
        "id": "O_i_v8NEhb9l"
      }
    },
    {
      "cell_type": "markdown",
      "source": [
        "## ***1. Know Your Data***"
      ],
      "metadata": {
        "id": "HhfV-JJviCcP"
      }
    },
    {
      "cell_type": "markdown",
      "source": [
        "### Import Libraries"
      ],
      "metadata": {
        "id": "Y3lxredqlCYt"
      }
    },
    {
      "cell_type": "code",
      "source": [
        "import numpy as np\n",
        "import pandas as pd\n",
        "import seaborn as sns\n",
        "import matplotlib.pyplot as plt\n",
        "import warnings\n",
        "warnings.filterwarnings('ignore')\n",
        "import missingno as msno   #library to identify the missing values/numbers\n",
        "\n",
        "\n",
        "%matplotlib inline\n",
        "#to keep the graph visible even after the disconnect"
      ],
      "metadata": {
        "id": "M8Vqi-pPk-HR"
      },
      "execution_count": null,
      "outputs": []
    },
    {
      "cell_type": "markdown",
      "source": [
        "### Dataset Loading"
      ],
      "metadata": {
        "id": "3RnN4peoiCZX"
      }
    },
    {
      "cell_type": "code",
      "source": [
        "# Load Dataset\n",
        "#from google.colab import drive\n",
        "#drive.mount('/content/drive')\n",
        "#df = pd.read_csv('/content/drive/MyDrive/Play Store Data.csv')\n",
        "df=pd.read_csv('/content/Play Store Data.csv')"
      ],
      "metadata": {
        "id": "4CkvbW_SlZ_R"
      },
      "execution_count": null,
      "outputs": []
    },
    {
      "cell_type": "markdown",
      "source": [
        "### Dataset First View"
      ],
      "metadata": {
        "id": "x71ZqKXriCWQ"
      }
    },
    {
      "cell_type": "code",
      "source": [
        "# Dataset First Look\n",
        "df.head() #gives the first 5 rows(default) of our dataset"
      ],
      "metadata": {
        "id": "LWNFOSvLl09H"
      },
      "execution_count": null,
      "outputs": []
    },
    {
      "cell_type": "markdown",
      "source": [
        "### Dataset Rows & Columns count"
      ],
      "metadata": {
        "id": "7hBIi_osiCS2"
      }
    },
    {
      "cell_type": "code",
      "source": [
        "# Dataset Rows & Columns count\n",
        "print(f\"The number of rows in the dataset are: {df.shape[0]},and columns are: {df.shape[1]}\")\n",
        "#we see that the data has 10841 rows and 13 columns"
      ],
      "metadata": {
        "id": "Kllu7SJgmLij"
      },
      "execution_count": null,
      "outputs": []
    },
    {
      "cell_type": "markdown",
      "source": [
        "### Dataset Information"
      ],
      "metadata": {
        "id": "JlHwYmJAmNHm"
      }
    },
    {
      "cell_type": "code",
      "source": [
        "# Dataset Info\n",
        "df.info()"
      ],
      "metadata": {
        "id": "e9hRXRi6meOf"
      },
      "execution_count": null,
      "outputs": []
    },
    {
      "cell_type": "markdown",
      "source": [
        "#### Duplicate Values"
      ],
      "metadata": {
        "id": "35m5QtbWiB9F"
      }
    },
    {
      "cell_type": "code",
      "source": [
        "# Dataset Duplicate Value Count\n",
        "dup = df.duplicated().sum()\n",
        "print(f\"The number of duplicated values are\", dup)"
      ],
      "metadata": {
        "id": "1sLdpKYkmox0"
      },
      "execution_count": null,
      "outputs": []
    },
    {
      "cell_type": "markdown",
      "source": [
        "When we see duplicate counts we found 483 duplicate values"
      ],
      "metadata": {
        "id": "HtecKYz22YWf"
      }
    },
    {
      "cell_type": "markdown",
      "source": [
        "#### Missing Values/Null Values"
      ],
      "metadata": {
        "id": "PoPl-ycgm1ru"
      }
    },
    {
      "cell_type": "code",
      "source": [
        "df.isnull().sum()"
      ],
      "metadata": {
        "id": "4XTK3V16VpAu"
      },
      "execution_count": null,
      "outputs": []
    },
    {
      "cell_type": "code",
      "source": [
        "# Missing Values/Null Values Count\n",
        "df.isnull().sum()"
      ],
      "metadata": {
        "id": "GgHWkxvamxVg"
      },
      "execution_count": null,
      "outputs": []
    },
    {
      "cell_type": "code",
      "source": [
        "# Visualizing the missing values\n",
        "msno.matrix(df)"
      ],
      "metadata": {
        "id": "3q5wnI3om9sJ"
      },
      "execution_count": null,
      "outputs": []
    },
    {
      "cell_type": "markdown",
      "source": [
        "### What did you know about your dataset?"
      ],
      "metadata": {
        "id": "H0kj-8xxnORC"
      }
    },
    {
      "cell_type": "markdown",
      "metadata": {
        "id": "ISjURlya3ElP"
      },
      "source": [
        "we see that **except ratings other values are of object type,** so we need to evalvulate the fields with respect to there values such as int or other respective column type.\n",
        "\n",
        "**the following are the counts for null values.**\n",
        "\n",
        "*    Rating:            1474\n",
        "*   Type:                 1\n",
        "*   Content Rating:       1\n",
        "*   Current Ver:          8\n",
        "*   Android Ver:  3\n",
        "\n",
        "**The following columns are listed in the dataframe**\n",
        "\n",
        "1.   App : indicates the name of the apps (this column has duplicate values in the rows)\n",
        "2.   Category : this indicates the various categories of the apps\n",
        "3.   Rating: this indicates the ratings recieved by the respective apps\n",
        "4. Reviews: this indicates the number or reviews recieved by the app\n",
        "5. Size :indicates the size of the app\n",
        "6. Installs: indicates the number of installs of the respective app\n",
        "7. Type: Shows the type of the app which is free or paid\n",
        "8. Price: this field shows the price of the fields, 0 for free and amount if paid\n",
        "9. Content Rating:shows the targated audiance of the app and what type of audiance has reviewed the app\n",
        "10. Genres: shows the Genre of the app, (same as category)\n",
        "11. Last Updated: shows the latest date of the app that has updated\n",
        "12. Current Ver: shows the latest version of the app\n",
        "13. Androaid Ver: shows the version of android which can support the given app"
      ]
    },
    {
      "cell_type": "markdown",
      "source": [
        "## ***2. Understanding Your Variables***"
      ],
      "metadata": {
        "id": "nA9Y7ga8ng1Z"
      }
    },
    {
      "cell_type": "code",
      "source": [
        "# Dataset Columns\n",
        "print(f\"The names of columns of the dataset are: {df.columns}\")"
      ],
      "metadata": {
        "id": "j7xfkqrt5Ag5"
      },
      "execution_count": null,
      "outputs": []
    },
    {
      "cell_type": "code",
      "source": [
        "# Dataset Describe\n",
        "print(df.info())"
      ],
      "metadata": {
        "id": "DnOaZdaE5Q5t"
      },
      "execution_count": null,
      "outputs": []
    },
    {
      "cell_type": "markdown",
      "source": [
        "### Variables Description"
      ],
      "metadata": {
        "id": "PBTbrJXOngz2"
      }
    },
    {
      "cell_type": "markdown",
      "source": [
        "The following columns are listed in the dataframe\n",
        "\n",
        "1.   App : indicates the name of the apps (this column has duplicate values in the rows)\n",
        "2.   Category : this indicates the various categories of the apps\n",
        "3.   Rating: this indicates the ratings recieved by the respective apps\n",
        "4. Reviews: this indicates the number or reviews recieved by the app\n",
        "5. Size :indicates the size of the app\n",
        "6. Installs: indicates the number of installs of the respective app\n",
        "7. Type: Shows the type of the app which is free or paid\n",
        "8. Price: this field shows the price of the fields, 0 for free and amount if paid\n",
        "9. Content Rating:shows the targated audiance of the app and what type of audiance has reviewed the app\n",
        "10. Genres: shows the Genre of the app, (same as category)\n",
        "11. Last Updated: shows the latest date of the app that has updated\n",
        "12. Current Ver: shows the latest version of the app\n",
        "13. Androaid Ver: shows the version of android which can support the given app"
      ],
      "metadata": {
        "id": "aJV4KIxSnxay"
      }
    },
    {
      "cell_type": "markdown",
      "source": [
        "### Check Unique Values for each variable."
      ],
      "metadata": {
        "id": "u3PMJOP6ngxN"
      }
    },
    {
      "cell_type": "code",
      "source": [
        "# Check Unique Values for each variable.\n",
        "for column in df.columns:\n",
        "  result = len(df[column].unique())\n",
        "  print(f\"The number of variables in {column} column are: {result}\")"
      ],
      "metadata": {
        "id": "zms12Yq5n-jE"
      },
      "execution_count": null,
      "outputs": []
    },
    {
      "cell_type": "markdown",
      "source": [
        "## 3. ***Data Wrangling***"
      ],
      "metadata": {
        "id": "dauF4eBmngu3"
      }
    },
    {
      "cell_type": "markdown",
      "source": [
        "### Data Wrangling Code"
      ],
      "metadata": {
        "id": "bKJF3rekwFvQ"
      }
    },
    {
      "cell_type": "markdown",
      "source": [
        "By observing the data we have some variables like M,K,Variable with the device"
      ],
      "metadata": {
        "id": "VUjDT3SfVOVd"
      }
    },
    {
      "cell_type": "code",
      "source": [
        "# Write your code to make your dataset analysis ready.\n",
        "def convert_int(x):\n",
        "  ''' this function takes the object and removes ',' + , M, k, $ returns it\n",
        "  after evalvating by the function eval\n",
        "  ''\n",
        "\n",
        "  '''\n",
        "\n",
        "  if x.isdigit():         # Checking if the object is alread integer to and converting it before itterating if loops for making the function more optimised\n",
        "      return eval(x)\n",
        "  else:\n",
        "      if ',' in x:          #writing series of if condition to reduce the operations complexity on the objects\n",
        "        x=x.replace(',','')\n",
        "      if '+' in x:          #this occurs in installs column, so we are removing the same to have a proper int format\n",
        "        x=x.replace('+','')\n",
        "      if 'M' in x:\n",
        "        x=x.replace('M','')        # since this value occurs in Size we are converting Millions to int format by adding 6 zeros to the same\n",
        "        x= eval(x)\n",
        "        x = x * 10**6\n",
        "        return x\n",
        "        # x=x.replace('M','')\n",
        "      if 'k' in x:          # since this value occurs in Size we are converting Kilo to int format by adding 3 zeros to the same\n",
        "        x=x.replace('k','')\n",
        "        x = eval(x)\n",
        "        x= x * 10**3\n",
        "        return x\n",
        "        # x=x.replace('k','')\n",
        "      if '$' in x:\n",
        "        x=x.replace('$','') #this occurs in price column, so we are taking out the $ symbol\n",
        "      if x=='Free' or x=='Varies with device'or x=='Everyone':    #there are some columns entered with missplaced values, setting them to zero.\n",
        "        x=0\n",
        "      else:\n",
        "        x= eval(x)\n",
        "      return x\n",
        "\n",
        "\n",
        "\n",
        "\n",
        "\n"
      ],
      "metadata": {
        "id": "wk-9a2fpoLcV"
      },
      "execution_count": null,
      "outputs": []
    },
    {
      "cell_type": "code",
      "source": [
        "#Applying our custom function to the following columns\n",
        "df['Reviews'] = df['Reviews'].apply(convert_int)\n",
        "df['Size'] = df['Size'].apply(convert_int)\n",
        "df['Installs'] = df['Installs'].apply(convert_int)\n",
        "df['Price'] = df['Price'].apply(convert_int)"
      ],
      "metadata": {
        "id": "0HgO5jst84s_"
      },
      "execution_count": null,
      "outputs": []
    },
    {
      "cell_type": "markdown",
      "source": [
        "### What all manipulations have you done and insights you found?"
      ],
      "metadata": {
        "id": "MSa1f5Uengrz"
      }
    },
    {
      "cell_type": "markdown",
      "source": [
        "\n",
        "\n",
        "*  I found that the sizes columns contains numbers in millions and kilos so Converting M(millions) and k(thousands) to integer,by multiplying the value by 10000000and 1000 respectively.\n",
        "*   In the installs_column the number of installs are present as 10000+,5000+ etc,so we remove the '+' sign by using .replace() method.\n",
        "\n"
      ],
      "metadata": {
        "id": "LbyXE7I1olp8"
      }
    },
    {
      "cell_type": "code",
      "source": [
        "# we see that there is one rating value that is 19 which could be human error, this may affect the median value in further steps, so we set it as 1.9.\n",
        "df.loc[df['Rating'] == 19, 'Rating'] = 1.9"
      ],
      "metadata": {
        "id": "gpTgN3j85hNP"
      },
      "execution_count": null,
      "outputs": []
    },
    {
      "cell_type": "code",
      "source": [
        "x = df.Rating.unique()\n",
        "x.sort()\n",
        "print(x)"
      ],
      "metadata": {
        "id": "uKK5q0en5phT"
      },
      "execution_count": null,
      "outputs": []
    },
    {
      "cell_type": "code",
      "source": [
        "# We see that some values in category has underscores in it, so we are replacing the underscore with space\n",
        "def remove_underscores(x):\n",
        "  if '_' in x:\n",
        "    x = x.replace('_', ' ')\n",
        "  return x"
      ],
      "metadata": {
        "id": "gsJz7yRm50sq"
      },
      "execution_count": null,
      "outputs": []
    },
    {
      "cell_type": "code",
      "source": [
        "# applying 'remove_underscores' function on category column\n",
        "\n",
        "df['Category'] = df['Category'].apply(remove_underscores)"
      ],
      "metadata": {
        "id": "Epr7-vig57Si"
      },
      "execution_count": null,
      "outputs": []
    },
    {
      "cell_type": "code",
      "source": [
        "# finding null values\n",
        "df.isna().sum()"
      ],
      "metadata": {
        "id": "78Mfz68R58yy"
      },
      "execution_count": null,
      "outputs": []
    },
    {
      "cell_type": "markdown",
      "source": [
        "we see that the following are null values.\n",
        "\n",
        "*    Rating:            1474\n",
        "*   Type:                 1\n",
        "*   Content Rating:       1\n",
        "*   Current Ver:          8\n",
        "*   Android Ver:  3\n",
        "\n"
      ],
      "metadata": {
        "id": "AnPhdoco6IGt"
      }
    },
    {
      "cell_type": "markdown",
      "source": [
        "since there are many values in ratings that can be replaced with median values"
      ],
      "metadata": {
        "id": "HKwJf3pD6ey_"
      }
    },
    {
      "cell_type": "code",
      "source": [
        "#By ploting distribution plot we can choose between mean amd median.\n",
        "plt.title('Distribution plot of Rating Feature')\n",
        "\n",
        "sns.distplot(df['Rating'],kde = True)"
      ],
      "metadata": {
        "id": "td2I79Nf6rjq"
      },
      "execution_count": null,
      "outputs": []
    },
    {
      "cell_type": "code",
      "source": [
        "# In this case we use mean to have A Normal Distribution\n",
        "median_value_for_ratings = df['Rating'].mean()\n",
        "median_value_for_ratings = round(median_value_for_ratings, 2)\n",
        "df['Rating'] = df['Rating'].fillna(median_value_for_ratings)\n",
        "print(f'the values for null us updated as {median_value_for_ratings}')"
      ],
      "metadata": {
        "id": "9avNv0lP6t31"
      },
      "execution_count": null,
      "outputs": []
    },
    {
      "cell_type": "code",
      "source": [
        "# since the other values are minimum null values, we drop them\n",
        "df = df.dropna(subset = ['Type', 'Content Rating', 'Current Ver', 'Android Ver'])"
      ],
      "metadata": {
        "id": "08tRTCNL61ye"
      },
      "execution_count": null,
      "outputs": []
    },
    {
      "cell_type": "code",
      "source": [
        "# Dataset Duplicate Value Count\n",
        "dup = df['App'].duplicated().sum()\n",
        "print(dup)"
      ],
      "metadata": {
        "id": "ReijHQTg696v"
      },
      "execution_count": null,
      "outputs": []
    },
    {
      "cell_type": "markdown",
      "source": [
        "we see that there are 1181 duplicated rows in app names columns, so we are keeping the first and dropping the remaining"
      ],
      "metadata": {
        "id": "MiWj956-7GEW"
      }
    },
    {
      "cell_type": "code",
      "source": [
        "#we see that there are duplicate names off apps in apps column, so dropping duplicates and keeping first\n",
        "df = df.drop_duplicates(subset=['App'],keep=\"first\")"
      ],
      "metadata": {
        "id": "wI3oQhAR7KS6"
      },
      "execution_count": null,
      "outputs": []
    },
    {
      "cell_type": "markdown",
      "source": [
        " After data cleaning and manipulation, we are now again analysing the data for understanding if all the discrepancies are gone"
      ],
      "metadata": {
        "id": "dJLcOlC57alZ"
      }
    },
    {
      "cell_type": "code",
      "source": [
        "df.info()"
      ],
      "metadata": {
        "id": "xufKryhd7m7G"
      },
      "execution_count": null,
      "outputs": []
    },
    {
      "cell_type": "code",
      "source": [
        "df.describe()"
      ],
      "metadata": {
        "id": "9k1Hl02mfsEA"
      },
      "execution_count": null,
      "outputs": []
    },
    {
      "cell_type": "code",
      "source": [
        "df.head()"
      ],
      "metadata": {
        "id": "2fa6heGAfy0k"
      },
      "execution_count": null,
      "outputs": []
    },
    {
      "cell_type": "markdown",
      "source": [
        "## ***4. Data Vizualization, Storytelling & Experimenting with charts : Understand the relationships between variables***"
      ],
      "metadata": {
        "id": "GF8Ens_Soomf"
      }
    },
    {
      "cell_type": "markdown",
      "source": [
        "#### Chart - 1"
      ],
      "metadata": {
        "id": "0wOQAZs5pc--"
      }
    },
    {
      "cell_type": "code",
      "source": [
        "# Chart - 1 visualization code\n",
        "df.plot(kind='scatter', x='Size', y='Installs', s=32, alpha=.8)\n",
        "plt.gca().spines[['top', 'right',]].set_visible(False)\n"
      ],
      "metadata": {
        "id": "7v_ESjsspbW7"
      },
      "execution_count": null,
      "outputs": []
    },
    {
      "cell_type": "markdown",
      "source": [
        "##### 1. Why did you pick the specific chart?"
      ],
      "metadata": {
        "id": "K5QZ13OEpz2H"
      }
    },
    {
      "cell_type": "markdown",
      "source": [
        "A scatter plot shares the distribution of app installs by their size clearly."
      ],
      "metadata": {
        "id": "XESiWehPqBRc"
      }
    },
    {
      "cell_type": "markdown",
      "source": [
        "##### 2. What is/are the insight(s) found from the chart?"
      ],
      "metadata": {
        "id": "lQ7QKXXCp7Bj"
      }
    },
    {
      "cell_type": "markdown",
      "source": [
        "We see that the majority of app-installs are those which have a small size."
      ],
      "metadata": {
        "id": "C_j1G7yiqdRP"
      }
    },
    {
      "cell_type": "markdown",
      "source": [
        "##### 3. Will the gained insights help creating a positive business impact?\n",
        "Are there any insights that lead to negative growth? Justify with specific reason."
      ],
      "metadata": {
        "id": "448CDAPjqfQr"
      }
    },
    {
      "cell_type": "markdown",
      "source": [
        "Small storage apps account for a very large space in the market,people tend to use small apps more as compared to large ones'"
      ],
      "metadata": {
        "id": "3cspy4FjqxJW"
      }
    },
    {
      "cell_type": "markdown",
      "source": [
        "#### Chart - 2"
      ],
      "metadata": {
        "id": "KSlN3yHqYklG"
      }
    },
    {
      "cell_type": "code",
      "source": [
        "# Chart - 2 visualization code\n",
        "df.groupby('Category')['Rating'].mean().plot(kind='bar')"
      ],
      "metadata": {
        "id": "R4YgtaqtYklH"
      },
      "execution_count": null,
      "outputs": []
    },
    {
      "cell_type": "markdown",
      "source": [
        "##### 1. Why did you pick the specific chart?"
      ],
      "metadata": {
        "id": "t6dVpIINYklI"
      }
    },
    {
      "cell_type": "markdown",
      "source": [
        "We wanted to have a look at the ratings of different category so bar chart is best suited for this purpose"
      ],
      "metadata": {
        "id": "5aaW0BYyYklI"
      }
    },
    {
      "cell_type": "markdown",
      "source": [
        "##### 2. What is/are the insight(s) found from the chart?"
      ],
      "metadata": {
        "id": "ijmpgYnKYklI"
      }
    },
    {
      "cell_type": "markdown",
      "source": [
        "We see that there are apps in the category that have low rating and through this we can identify the category in which we can work on to make a better app."
      ],
      "metadata": {
        "id": "PSx9atu2YklI"
      }
    },
    {
      "cell_type": "markdown",
      "source": [
        "##### 3. Will the gained insights help creating a positive business impact?\n",
        "Are there any insights that lead to negative growth? Justify with specific reason."
      ],
      "metadata": {
        "id": "-JiQyfWJYklI"
      }
    },
    {
      "cell_type": "markdown",
      "source": [
        "From the above graph we can see that there are many apps with low rating and high,but it is difficult to say the reason for low or high rating for a certain category based on this graph."
      ],
      "metadata": {
        "id": "BcBbebzrYklV"
      }
    },
    {
      "cell_type": "markdown",
      "source": [
        "#### Chart - 3"
      ],
      "metadata": {
        "id": "EM7whBJCYoAo"
      }
    },
    {
      "cell_type": "code",
      "source": [
        "# Chart - 3 visualization code\n",
        "#Here we use pie plot\n",
        "fig, ax = plt.subplots(figsize=(7, 7), subplot_kw=dict(aspect=\"equal\"))\n",
        "number_of_apps = df['Type'].value_counts()\n",
        "labels = number_of_apps.index\n",
        "sizes = number_of_apps.values\n",
        "\n",
        "# plotting the same\n",
        "ax.pie(sizes,labeldistance=2,autopct='%1.1f%%')\n",
        "ax.legend(labels=labels,loc=\"right\",bbox_to_anchor=(0.9, 0, 0.5, 1))\n",
        "ax.axis(\"equal\")\n",
        "plt.title('Type Distribution')\n",
        "# plt.show()"
      ],
      "metadata": {
        "id": "t6GMdE67YoAp"
      },
      "execution_count": null,
      "outputs": []
    },
    {
      "cell_type": "markdown",
      "source": [
        "##### 1. Why did you pick the specific chart?"
      ],
      "metadata": {
        "id": "fge-S5ZAYoAp"
      }
    },
    {
      "cell_type": "markdown",
      "source": [
        "A pieplot shares the distribution of apps by their type(free or paid) very clearly."
      ],
      "metadata": {
        "id": "5dBItgRVYoAp"
      }
    },
    {
      "cell_type": "markdown",
      "source": [
        "##### 2. What is/are the insight(s) found from the chart?"
      ],
      "metadata": {
        "id": "85gYPyotYoAp"
      }
    },
    {
      "cell_type": "markdown",
      "source": [
        "We see that the total number of apps which are paid are 7.8% and rest are free."
      ],
      "metadata": {
        "id": "4jstXR6OYoAp"
      }
    },
    {
      "cell_type": "markdown",
      "source": [
        "##### 3. Will the gained insights help creating a positive business impact?\n",
        "Are there any insights that lead to negative growth? Justify with specific reason."
      ],
      "metadata": {
        "id": "RoGjAbkUYoAp"
      }
    },
    {
      "cell_type": "markdown",
      "source": [
        "It is observed that the majority of apps that are publised are free to use and very less number of apps are paid"
      ],
      "metadata": {
        "id": "zfJ8IqMcYoAp"
      }
    },
    {
      "cell_type": "markdown",
      "source": [
        "#### Chart - 4"
      ],
      "metadata": {
        "id": "GhHtvsagPiw6"
      }
    },
    {
      "cell_type": "code",
      "source": [
        "# Chart - 4 visualization code\n",
        "# heights ratings with respect to category\n",
        "category_avg_ratings = df.groupby('Category')['Rating'].min().sort_values(ascending = False)\n",
        "\n",
        "# plotting\n",
        "plt.rcParams['figure.figsize'] = (20, 5)\n",
        "plt.bar(category_avg_ratings.index, category_avg_ratings.values)\n",
        "plt.title('number of Ratings by Category')\n",
        "plt.xlabel('Category')\n",
        "plt.ylabel('Rating count')\n",
        "plt.xticks(rotation=90)\n",
        "\n",
        "plt.show()"
      ],
      "metadata": {
        "id": "PLe7ImPFPmQd"
      },
      "execution_count": null,
      "outputs": []
    },
    {
      "cell_type": "markdown",
      "source": [
        "#### 1. Why did you pick the specific chart?"
      ],
      "metadata": {
        "id": "imE__4iqP_LG"
      }
    },
    {
      "cell_type": "markdown",
      "source": [
        "we are ploting minimum values against each category, so Bar chart would be best suited for the visualization to understand whch category has lowest raitings and which has heighest"
      ],
      "metadata": {
        "id": "BMTt24JTQHEr"
      }
    },
    {
      "cell_type": "markdown",
      "source": [
        "#### 2. What is/are the insight(s) found from the chart?"
      ],
      "metadata": {
        "id": "rRMziF8wQLPq"
      }
    },
    {
      "cell_type": "markdown",
      "source": [
        "We see that there are apps in the category that has lowest rating and through this we can identify the category in which we can work on and make a better app."
      ],
      "metadata": {
        "id": "pCeFqnDwQQ_u"
      }
    },
    {
      "cell_type": "markdown",
      "source": [
        "#### 3. Will the gained insights help creating a positive business impact? Are there any insights that lead to negative growth? Justify with specific reason."
      ],
      "metadata": {
        "id": "CV57BsgbQYMj"
      }
    },
    {
      "cell_type": "markdown",
      "source": [
        "As a result we can see that there are many apps with lowest rating and we have hope or chance to bring a better app to the market."
      ],
      "metadata": {
        "id": "kWbESpgKQe1J"
      }
    },
    {
      "cell_type": "markdown",
      "source": [
        "#### Chart - 5"
      ],
      "metadata": {
        "id": "_PmNX69RREfF"
      }
    },
    {
      "cell_type": "code",
      "source": [
        "# Chart - 5 visualization code\n",
        "category_price_counts = df.groupby(['Category', 'Type']).size().unstack()\n",
        "\n",
        "#plotting\n",
        "total_counts = category_price_counts.sum(axis=1)\n",
        "category_price_ratios = category_price_counts.div(total_counts, axis=0) * 100\n",
        "\n",
        "# create a stacked bar chart\n",
        "category_price_ratios.plot(kind='bar', stacked=True)\n",
        "plt.title('Percentage of Free and Paid Apps by Category')\n",
        "plt.xlabel('Category')\n",
        "plt.ylabel('Percentage')\n",
        "plt.legend(title='Price Type')\n",
        "plt.show()"
      ],
      "metadata": {
        "id": "MQM6XiwGRMKp"
      },
      "execution_count": null,
      "outputs": []
    },
    {
      "cell_type": "markdown",
      "source": [
        "##### 1. Why did you pick the specific chart?"
      ],
      "metadata": {
        "id": "i3Y4tBR4RYV_"
      }
    },
    {
      "cell_type": "markdown",
      "source": [
        "A stacked bar plot shows the percentage for all app categories by type(free and paid)"
      ],
      "metadata": {
        "id": "dXqMi6RoRZS2"
      }
    },
    {
      "cell_type": "markdown",
      "source": [
        "##### 2. What is/are the insight(s) found from the chart?"
      ],
      "metadata": {
        "id": "WIjIK-BORe2K"
      }
    },
    {
      "cell_type": "markdown",
      "source": [
        "We se that the percentage of paid apps in personelization and Medical are more."
      ],
      "metadata": {
        "id": "cOmWjXUMRo52"
      }
    },
    {
      "cell_type": "markdown",
      "source": [
        "##### 3. Will the gained insights help creating a positive business impact?\n",
        "Are there any insights that lead to negative growth? Justify with specific reason."
      ],
      "metadata": {
        "id": "HcZU_oFSRs0W"
      }
    },
    {
      "cell_type": "markdown",
      "source": [
        "We can infer the ratio in percent wise distrubution at category level in the above plot, we see that the percent of Personalization and Medical app have more number of paid apps compare to other categories"
      ],
      "metadata": {
        "id": "2XMIf0UHRwbb"
      }
    },
    {
      "cell_type": "markdown",
      "source": [
        "#### Chart - 6"
      ],
      "metadata": {
        "id": "4Of9eVA-YrdM"
      }
    },
    {
      "cell_type": "code",
      "source": [
        "# Chart - 6 visualization code\n",
        "# Get the number of apps for each category using Count Plot\n",
        "\n",
        "sns.set_style('darkgrid')\n",
        "plt.figure(figsize=(10, 5))\n",
        "\n",
        "sns.countplot(x='Category', data=df)\n",
        "\n",
        "plt.title('Number of Apps Per Category', fontsize = 25)\n",
        "plt.xticks(rotation=90)\n",
        "plt.ylabel('Number of Apps')\n",
        "\n"
      ],
      "metadata": {
        "id": "irlUoxc8YrdO"
      },
      "execution_count": null,
      "outputs": []
    },
    {
      "cell_type": "markdown",
      "source": [
        "##### 1. Why did you pick the specific chart?"
      ],
      "metadata": {
        "id": "iky9q4vBYrdO"
      }
    },
    {
      "cell_type": "markdown",
      "source": [
        "As we have a categorical data on X-Axis so bar chart was likely to be used"
      ],
      "metadata": {
        "id": "aJRCwT6DYrdO"
      }
    },
    {
      "cell_type": "markdown",
      "source": [
        "##### 2. What is/are the insight(s) found from the chart?"
      ],
      "metadata": {
        "id": "F6T5p64dYrdO"
      }
    },
    {
      "cell_type": "markdown",
      "source": [
        "We find that the number of apps in Family category is 18.5% followed by Games with 9.94% and tools app with 8.55%"
      ],
      "metadata": {
        "id": "Xx8WAJvtYrdO"
      }
    },
    {
      "cell_type": "markdown",
      "source": [
        "##### 3. Will the gained insights help creating a positive business impact?\n",
        "Are there any insights that lead to negative growth? Justify with specific reason."
      ],
      "metadata": {
        "id": "y-Ehk30pYrdP"
      }
    },
    {
      "cell_type": "markdown",
      "source": [
        "We see that there are many apps in family, games and tools category, this plot can help us to understand the market size of the category in which we are trying to make our new app"
      ],
      "metadata": {
        "id": "jLNxxz7MYrdP"
      }
    },
    {
      "cell_type": "markdown",
      "source": [
        "#### Chart - 7"
      ],
      "metadata": {
        "id": "bamQiAODYuh1"
      }
    },
    {
      "cell_type": "code",
      "source": [
        "# Chart - 7 visualization code\n",
        "Max_Installs = df.groupby(['Category'])['Installs'].sum().sort_values()\n",
        "\n",
        "#plotting\n",
        "Max_Installs.plot.barh(figsize=(15,10), color = 'c', )\n",
        "plt.ylabel('Total app Installs', fontsize = 15)\n",
        "plt.xlabel('App Categories', fontsize = 15)\n",
        "plt.xticks()\n",
        "plt.title('Total app installs in each category', fontsize = 20)"
      ],
      "metadata": {
        "id": "TIJwrbroYuh3"
      },
      "execution_count": null,
      "outputs": []
    },
    {
      "cell_type": "markdown",
      "source": [
        "##### 1. Why did you pick the specific chart?"
      ],
      "metadata": {
        "id": "QHF8YVU7Yuh3"
      }
    },
    {
      "cell_type": "markdown",
      "source": [
        "As we have a Categorical data,so a bar chart is suitable"
      ],
      "metadata": {
        "id": "dcxuIMRPYuh3"
      }
    },
    {
      "cell_type": "markdown",
      "source": [
        "##### 2. What is/are the insight(s) found from the chart?"
      ],
      "metadata": {
        "id": "GwzvFGzlYuh3"
      }
    },
    {
      "cell_type": "markdown",
      "source": [
        "We see that the maximum installs are for the gaming category and we followed by communication and tools."
      ],
      "metadata": {
        "id": "uyqkiB8YYuh3"
      }
    },
    {
      "cell_type": "markdown",
      "source": [
        "##### 3. Will the gained insights help creating a positive business impact?\n",
        "Are there any insights that lead to negative growth? Justify with specific reason."
      ],
      "metadata": {
        "id": "qYpmQ266Yuh3"
      }
    },
    {
      "cell_type": "markdown",
      "source": [
        "It is observed that people tend to use Gaming apps and communication apps more often."
      ],
      "metadata": {
        "id": "_WtzZ_hCYuh4"
      }
    },
    {
      "cell_type": "markdown",
      "source": [
        "#### Chart - 8"
      ],
      "metadata": {
        "id": "OH-pJp9IphqM"
      }
    },
    {
      "cell_type": "code",
      "source": [
        "# Chart - 8 visualization code\n",
        " # Content rating of the apps for diff age group of people\n",
        "data = df['Content Rating'].value_counts()\n",
        "labels = ['Everyone', 'Teen', 'Everyone 10+', 'Mature 17+','Adults only 18+', 'Unrated']\n",
        "\n",
        "#creating a pie chart\n",
        "plt.figure(figsize=(8,8))\n",
        "explode=(0,0.1,0.1,0.1,0.0,1.3)\n",
        "plt.pie(data, labels = labels, autopct='%.2f%%',explode=explode,textprops={'fontsize': 15})\n",
        "plt.title('Content Rating',size=20,loc='center')\n",
        "plt.show()"
      ],
      "metadata": {
        "id": "kuRf4wtuphqN"
      },
      "execution_count": null,
      "outputs": []
    },
    {
      "cell_type": "markdown",
      "source": [
        "##### 1. Why did you pick the specific chart?"
      ],
      "metadata": {
        "id": "bbFf2-_FphqN"
      }
    },
    {
      "cell_type": "markdown",
      "source": [
        "Pie plots are more suitable to represent the share of each Category"
      ],
      "metadata": {
        "id": "loh7H2nzphqN"
      }
    },
    {
      "cell_type": "markdown",
      "source": [
        "##### 2. What is/are the insight(s) found from the chart?"
      ],
      "metadata": {
        "id": "_ouA3fa0phqN"
      }
    },
    {
      "cell_type": "markdown",
      "source": [
        "We found that most of the apps are open to be reviewed by Everyone"
      ],
      "metadata": {
        "id": "VECbqPI7phqN"
      }
    },
    {
      "cell_type": "markdown",
      "source": [
        "##### 3. Will the gained insights help creating a positive business impact?\n",
        "Are there any insights that lead to negative growth? Justify with specific reason."
      ],
      "metadata": {
        "id": "Seke61FWphqN"
      }
    },
    {
      "cell_type": "markdown",
      "source": [
        "It is recommended to have reviews open to everyone,so that everyone express their views about the usage of app from which,more positive reviews can be expected which can boost the app installs."
      ],
      "metadata": {
        "id": "DW4_bGpfphqN"
      }
    },
    {
      "cell_type": "markdown",
      "source": [
        "#### Chart - 9"
      ],
      "metadata": {
        "id": "PIIx-8_IphqN"
      }
    },
    {
      "cell_type": "code",
      "source": [
        "# Chart - 9 visualization code\n",
        "#the plot shows the paid app counts with respect to price excluding free apps\n",
        "\n",
        "free_app_value = 0\n",
        "df_without_free_apps = df['Price'] != free_app_value\n",
        "sns.countplot(data=df[df_without_free_apps], x='Price')\n",
        "plt.rcParams['figure.figsize'] = (20, 5)\n",
        "plt.xticks(rotation=90)\n",
        "plt.show()"
      ],
      "metadata": {
        "id": "lqAIGUfyphqO"
      },
      "execution_count": null,
      "outputs": []
    },
    {
      "cell_type": "markdown",
      "source": [
        "##### 1. Why did you pick the specific chart?"
      ],
      "metadata": {
        "id": "t27r6nlMphqO"
      }
    },
    {
      "cell_type": "markdown",
      "source": [
        "A seaborn count plot shows counts of the app with respect to various values, here we wanted to know the counts of apps with price not equal to 0, so we used the above chart"
      ],
      "metadata": {
        "id": "iv6ro40sphqO"
      }
    },
    {
      "cell_type": "markdown",
      "source": [
        "##### 2. What is/are the insight(s) found from the chart?"
      ],
      "metadata": {
        "id": "r2jJGEOYphqO"
      }
    },
    {
      "cell_type": "markdown",
      "source": [
        "we see that max app belong to price = 0.99 Followed by 2.99"
      ],
      "metadata": {
        "id": "Po6ZPi4hphqO"
      }
    },
    {
      "cell_type": "markdown",
      "source": [
        "##### 3. Will the gained insights help creating a positive business impact?\n",
        "Are there any insights that lead to negative growth? Justify with specific reason."
      ],
      "metadata": {
        "id": "b0JNsNcRphqO"
      }
    },
    {
      "cell_type": "markdown",
      "source": [
        "It is observed that there many apps are released with amount = 0.99 and 2.99\n",
        "\n",
        "It would be a good strategy if we can make sure the app falls in this price range to make sure the apps are affordable."
      ],
      "metadata": {
        "id": "xvSq8iUTphqO"
      }
    },
    {
      "cell_type": "markdown",
      "source": [
        "#### Chart - 10"
      ],
      "metadata": {
        "id": "BZR9WyysphqO"
      }
    },
    {
      "cell_type": "code",
      "source": [
        "# Chart - 10 visualization code\n",
        "plt.xticks(rotation=90)\n",
        "sns.boxplot(data=df, x=\"Category\", y=\"Rating\")\n",
        "plt.show()"
      ],
      "metadata": {
        "id": "TdPTWpAVphqO"
      },
      "execution_count": null,
      "outputs": []
    },
    {
      "cell_type": "markdown",
      "source": [
        "##### 1. Why did you pick the specific chart?"
      ],
      "metadata": {
        "id": "jj7wYXLtphqO"
      }
    },
    {
      "cell_type": "markdown",
      "source": [
        "Boxplots provides a concise summary of measures such as the median, quartiles, and outliers.\n",
        "\n",
        "This makes it easy to compare multiple datasets quickly and identify any differences or similarities."
      ],
      "metadata": {
        "id": "Ob8u6rCTphqO"
      }
    },
    {
      "cell_type": "markdown",
      "source": [
        "##### 2. What is/are the insight(s) found from the chart?"
      ],
      "metadata": {
        "id": "eZrbJ2SmphqO"
      }
    },
    {
      "cell_type": "markdown",
      "source": [
        "Communication and events have their medians outside the box, which means the ratings recieved are not skewed\n",
        "\n",
        "There are many outliers in various category"
      ],
      "metadata": {
        "id": "mZtgC_hjphqO"
      }
    },
    {
      "cell_type": "markdown",
      "source": [
        "##### 3. Will the gained insights help creating a positive business impact?\n",
        "Are there any insights that lead to negative growth? Justify with specific reason."
      ],
      "metadata": {
        "id": "rFu4xreNphqO"
      }
    },
    {
      "cell_type": "markdown",
      "source": [
        "the outliers below the boxes show that various apps in category are having a bad reviews so there is room for placing our app with better features in the categories with more wiskers in box plot below the boxes."
      ],
      "metadata": {
        "id": "ey_0qi68phqO"
      }
    },
    {
      "cell_type": "markdown",
      "source": [
        "#### Chart - 11"
      ],
      "metadata": {
        "id": "YJ55k-q6phqO"
      }
    },
    {
      "cell_type": "code",
      "source": [
        "# Chart - 11 visualization code\n",
        "plt.rcParams['figure.figsize'] = (20, 5)\n",
        "sns.histplot(df, x='Rating', kde=True)"
      ],
      "metadata": {
        "id": "B2aS4O1ophqO"
      },
      "execution_count": null,
      "outputs": []
    },
    {
      "cell_type": "markdown",
      "source": [
        "##### 1. Why did you pick the specific chart?"
      ],
      "metadata": {
        "id": "gCFgpxoyphqP"
      }
    },
    {
      "cell_type": "markdown",
      "source": [
        "Histograms are better to analyze distribution of numeric values"
      ],
      "metadata": {
        "id": "TVxDimi2phqP"
      }
    },
    {
      "cell_type": "markdown",
      "source": [
        "##### 2. What is/are the insight(s) found from the chart?"
      ],
      "metadata": {
        "id": "OVtJsKN_phqQ"
      }
    },
    {
      "cell_type": "markdown",
      "source": [
        "We see that most of the apps have a rating of 4.25"
      ],
      "metadata": {
        "id": "ngGi97qjphqQ"
      }
    },
    {
      "cell_type": "markdown",
      "source": [
        "##### 3. Will the gained insights help creating a positive business impact?\n",
        "Are there any insights that lead to negative growth? Justify with specific reason."
      ],
      "metadata": {
        "id": "lssrdh5qphqQ"
      }
    },
    {
      "cell_type": "markdown",
      "source": [
        "Since most of the apps have 4.2 rating, there is an opportunity to have a better app that could fit the market needs."
      ],
      "metadata": {
        "id": "tBpY5ekJphqQ"
      }
    },
    {
      "cell_type": "markdown",
      "source": [
        "#### Chart - 12\n"
      ],
      "metadata": {
        "id": "U2RJ9gkRphqQ"
      }
    },
    {
      "cell_type": "code",
      "source": [
        "# Chart - 12 visualization code\n",
        "\n",
        "\n",
        "plt.xticks(rotation=90)\n",
        "sns.boxplot(data=df, x=\"Category\", y=\"Size\")\n",
        "plt.show()"
      ],
      "metadata": {
        "id": "GM7a4YP4phqQ"
      },
      "execution_count": null,
      "outputs": []
    },
    {
      "cell_type": "markdown",
      "source": [
        "##### 1. Why did you pick the specific chart?"
      ],
      "metadata": {
        "id": "1M8mcRywphqQ"
      }
    },
    {
      "cell_type": "markdown",
      "source": [
        "Boxplots provides a concise summary of measures such as the median, quartiles, and outliers.\n",
        "\n",
        "This makes it easy to compare multiple datasets quickly and identify any differences or similarities\n",
        "\n"
      ],
      "metadata": {
        "id": "8agQvks0phqQ"
      }
    },
    {
      "cell_type": "markdown",
      "source": [
        "##### 2. What is/are the insight(s) found from the chart?"
      ],
      "metadata": {
        "id": "tgIPom80phqQ"
      }
    },
    {
      "cell_type": "markdown",
      "source": [
        "There are many outliers in various category"
      ],
      "metadata": {
        "id": "Qp13pnNzphqQ"
      }
    },
    {
      "cell_type": "markdown",
      "source": [
        "##### 3. Will the gained insights help creating a positive business impact?\n",
        "Are there any insights that lead to negative growth? Justify with specific reason."
      ],
      "metadata": {
        "id": "JMzcOPDDphqR"
      }
    },
    {
      "cell_type": "markdown",
      "source": [
        "the outliers below the boxes show that various apps in category are having different sizes as compared to their majority-usual sizes."
      ],
      "metadata": {
        "id": "R4Ka1PC2phqR"
      }
    },
    {
      "cell_type": "markdown",
      "source": [
        "#### Chart - 13"
      ],
      "metadata": {
        "id": "x-EpHcCOp1ci"
      }
    },
    {
      "cell_type": "code",
      "source": [
        "# Chart - 13 visualization code\n",
        "min_size = df.Size.min()\n",
        "max_size = df.size.max()\n",
        "\n",
        "# print(min_size)\n",
        "# print(max_size)"
      ],
      "metadata": {
        "id": "mAQTIvtqp1cj"
      },
      "execution_count": null,
      "outputs": []
    },
    {
      "cell_type": "code",
      "source": [
        "def group_by_size(val):\n",
        "  ''''\n",
        "  This function help to categories the size from 101304 to 0\n",
        "  as Extra Large App, Large App, Medium Size App and Snall Size App\n",
        "  '''\n",
        "  if val>=((max_size/4)*3):\n",
        "    return 'Extra Large App'\n",
        "  elif val >= ((max_size/4)*2)  and val<((max_size/4)*3):\n",
        "    return 'Large App'\n",
        "  elif val >= (max_size/4) and val<((max_size/4)*2):\n",
        "    return 'Medium Size App'\n",
        "  else:\n",
        "    return 'Small Size App'"
      ],
      "metadata": {
        "id": "p5reYDSRW8fu"
      },
      "execution_count": null,
      "outputs": []
    },
    {
      "cell_type": "code",
      "source": [
        "df['Size Groups'] = df['Size'].apply(group_by_size)"
      ],
      "metadata": {
        "id": "CyhW1QBIXJwY"
      },
      "execution_count": null,
      "outputs": []
    },
    {
      "cell_type": "code",
      "source": [
        "plt.rcParams['figure.figsize'] = (20, 5)\n",
        "size_group_df = df.groupby(['Size Groups'])['Installs'].sum()\n",
        "size_group_df.plot.pie()"
      ],
      "metadata": {
        "id": "4Ed1DhjpXLFo"
      },
      "execution_count": null,
      "outputs": []
    },
    {
      "cell_type": "markdown",
      "source": [
        "##### 1. Why did you pick the specific chart?"
      ],
      "metadata": {
        "id": "X_VqEhTip1ck"
      }
    },
    {
      "cell_type": "markdown",
      "source": [
        "Pie plot visually reperesents better way to understand the percentage covered by various app categories"
      ],
      "metadata": {
        "id": "-vsMzt_np1ck"
      }
    },
    {
      "cell_type": "markdown",
      "source": [
        "##### 2. What is/are the insight(s) found from the chart?"
      ],
      "metadata": {
        "id": "8zGJKyg5p1ck"
      }
    },
    {
      "cell_type": "markdown",
      "source": [
        "We infer that most of the people prefer to have small size apps."
      ],
      "metadata": {
        "id": "ZYdMsrqVp1ck"
      }
    },
    {
      "cell_type": "markdown",
      "source": [
        "##### 3. Will the gained insights help creating a positive business impact?\n",
        "Are there any insights that lead to negative growth? Justify with specific reason."
      ],
      "metadata": {
        "id": "PVzmfK_Ep1ck"
      }
    },
    {
      "cell_type": "markdown",
      "source": [
        "As the small-size apps are used more,we should make sure that the app developed for general reason is not large."
      ],
      "metadata": {
        "id": "druuKYZpp1ck"
      }
    },
    {
      "cell_type": "markdown",
      "source": [
        "#### Chart - 14"
      ],
      "metadata": {
        "id": "n3dbpmDWp1ck"
      }
    },
    {
      "cell_type": "code",
      "source": [
        "# Chart - 14 visualization code\n",
        "plt.rcParams['figure.figsize'] = (20, 5)\n",
        "size_groupby_Categories_df = df.groupby(['Category', 'Size Groups'])['Installs'].sum().unstack()\n",
        "\n",
        "size_groupby_Categories_df.plot.bar()\n",
        "plt.xlabel('Apps By Categories')\n",
        "plt.ylabel('Total Installs in Billions')"
      ],
      "metadata": {
        "id": "bwevp1tKp1ck"
      },
      "execution_count": null,
      "outputs": []
    },
    {
      "cell_type": "markdown",
      "source": [
        "##### 1. Why did you pick the specific chart?"
      ],
      "metadata": {
        "id": "ylSl6qgtp1ck"
      }
    },
    {
      "cell_type": "markdown",
      "source": [
        "Bar plot is bets suited to visualize the numbers against a categorical values."
      ],
      "metadata": {
        "id": "m2xqNkiQp1ck"
      }
    },
    {
      "cell_type": "markdown",
      "source": [
        "##### 2. What is/are the insight(s) found from the chart?"
      ],
      "metadata": {
        "id": "ZWILFDl5p1ck"
      }
    },
    {
      "cell_type": "markdown",
      "source": [
        "We see that most of the gaming apps belong to extra large size and most of the communication applications belong to smallsize."
      ],
      "metadata": {
        "id": "x-lUsV2mp1ck"
      }
    },
    {
      "cell_type": "markdown",
      "source": [
        "##### 3. Will the gained insights help creating a positive business impact?\n",
        "Are there any insights that lead to negative growth? Justify with specific reason."
      ],
      "metadata": {
        "id": "M7G43BXep1ck"
      }
    },
    {
      "cell_type": "markdown",
      "source": [
        "It is observed that the communication apps need to be lite and gaming apps can be of max size."
      ],
      "metadata": {
        "id": "5wwDJXsLp1cl"
      }
    },
    {
      "cell_type": "markdown",
      "source": [
        "#### Chart - 15\n",
        "Apps with the last updates"
      ],
      "metadata": {
        "id": "Ag9LCva-p1cl"
      }
    },
    {
      "cell_type": "code",
      "source": [
        "# Chart - 15 visualization code\n",
        "def get_year(x):\n",
        "  ''' This functions extracts year from the object and returns the same'''\n",
        "  x = x[-4:]\n",
        "  return eval(x)"
      ],
      "metadata": {
        "id": "EUfxeq9-p1cl"
      },
      "execution_count": null,
      "outputs": []
    },
    {
      "cell_type": "code",
      "source": [
        "df['year'] = df['Last Updated'].apply(get_year)"
      ],
      "metadata": {
        "id": "XLdSwJzYZKLr"
      },
      "execution_count": null,
      "outputs": []
    },
    {
      "cell_type": "code",
      "source": [
        "#distribution of the latest apps that are updated\n",
        "sorted_by_year = df.sort_values(by = 'year', ascending = False)\n",
        "sns.histplot(sorted_by_year, x='year', kde=True)"
      ],
      "metadata": {
        "id": "0nEKjR11ZLUh"
      },
      "execution_count": null,
      "outputs": []
    },
    {
      "cell_type": "markdown",
      "source": [
        "##### 1. Why did you pick the specific chart?"
      ],
      "metadata": {
        "id": "E6MkPsBcp1cl"
      }
    },
    {
      "cell_type": "markdown",
      "source": [
        "A hist plot shows the distribution of values by their count."
      ],
      "metadata": {
        "id": "V22bRsFWp1cl"
      }
    },
    {
      "cell_type": "markdown",
      "source": [
        "##### 2. What is/are the insight(s) found from the chart?"
      ],
      "metadata": {
        "id": "2cELzS2fp1cl"
      }
    },
    {
      "cell_type": "markdown",
      "source": [
        "We see that most of the apps are recently updated and some of them have been not updated since a long time."
      ],
      "metadata": {
        "id": "ozQPc2_Ip1cl"
      }
    },
    {
      "cell_type": "markdown",
      "source": [
        "##### 3. Will the gained insights help creating a positive business impact?\n",
        "Are there any insights that lead to negative growth? Justify with specific reason."
      ],
      "metadata": {
        "id": "3MPXvC8up1cl"
      }
    },
    {
      "cell_type": "markdown",
      "source": [
        "Regular updates are necessary for an app so the users can use latest features."
      ],
      "metadata": {
        "id": "GL8l1tdLp1cl"
      }
    },
    {
      "cell_type": "markdown",
      "source": [
        "#### Chart - 16 - Correlation Heatmap"
      ],
      "metadata": {
        "id": "NC_X3p0fY2L0"
      }
    },
    {
      "cell_type": "code",
      "source": [
        "# Correlation Heatmap visualization code\n",
        "plt.figure(figsize=(15,10))\n",
        "numeric_columns=['Rating', 'Reviews', 'Size', 'Installs','Price', 'year']\n",
        "sns.heatmap(df[numeric_columns].corr(),annot=True)"
      ],
      "metadata": {
        "id": "xyC9zolEZNRQ"
      },
      "execution_count": null,
      "outputs": []
    },
    {
      "cell_type": "markdown",
      "source": [
        "##### 1. Why did you pick the specific chart?"
      ],
      "metadata": {
        "id": "UV0SzAkaZNRQ"
      }
    },
    {
      "cell_type": "markdown",
      "source": [
        "The best way to plot a correlation matrix is by having a heatmap useing the seaborn Library.\n",
        "\n",
        "The values in the matrix range from -1 to 1, and represent the strength and direction of the correlation between two variables. A correlation coefficient of -1 indicates a perfect negative correlation, a coefficient of 0 indicates no correlation, and a coefficient of 1 indicates a perfect positive correlation."
      ],
      "metadata": {
        "id": "DVPuT8LYZNRQ"
      }
    },
    {
      "cell_type": "markdown",
      "source": [
        "##### 2. What is/are the insight(s) found from the chart?"
      ],
      "metadata": {
        "id": "YPEH6qLeZNRQ"
      }
    },
    {
      "cell_type": "markdown",
      "source": [
        "We see that the correlation between Installs and Reviews is 0.63 which is good, It means that when there are more reviews on any app the more people tend to install the app. so its a better idea to get reviews on the app.\n",
        "\n",
        "This gained insights are very helpfull to grow a business as we can add the feature to get reviews on the app and this shall help the app to grow."
      ],
      "metadata": {
        "id": "bfSqtnDqZNRR"
      }
    },
    {
      "cell_type": "markdown",
      "source": [
        "#### Chart - 17 - Pair Plot"
      ],
      "metadata": {
        "id": "q29F0dvdveiT"
      }
    },
    {
      "cell_type": "code",
      "source": [
        "# Pair Plot visualization code\n",
        "sns.pairplot(df, diag_kind=\"hist\")"
      ],
      "metadata": {
        "id": "o58-TEIhveiU"
      },
      "execution_count": null,
      "outputs": []
    },
    {
      "cell_type": "markdown",
      "source": [
        "##### 1. Why did you pick the specific chart?"
      ],
      "metadata": {
        "id": "EXh0U9oCveiU"
      }
    },
    {
      "cell_type": "markdown",
      "source": [
        "Pair plots are used to show relationship between various variables\n",
        "\n",
        "Pair plots can also help us explore the distribution of variables in your dataset."
      ],
      "metadata": {
        "id": "eMmPjTByveiU"
      }
    },
    {
      "cell_type": "markdown",
      "source": [
        "##### 2. What is/are the insight(s) found from the chart?"
      ],
      "metadata": {
        "id": "22aHeOlLveiV"
      }
    },
    {
      "cell_type": "markdown",
      "source": [
        "A number of observations can be drawn from the above pair plots."
      ],
      "metadata": {
        "id": "uPQ8RGwHveiV"
      }
    },
    {
      "cell_type": "markdown",
      "source": [
        "## **5. Solution to Business Objective**"
      ],
      "metadata": {
        "id": "JcMwzZxoAimU"
      }
    },
    {
      "cell_type": "markdown",
      "source": [
        "#### What do you suggest the client to achieve Business Objective ?\n",
        "Explain Briefly."
      ],
      "metadata": {
        "id": "8G2x9gOozGDZ"
      }
    },
    {
      "cell_type": "markdown",
      "source": [
        "The Google Play Store Apps report provides some useful details regarding the trending of the apps in the play store. As per the graphs visualizations shown above, most of the trending apps (in terms of users' installs) are from the categories like GAME, COMMUNICATION, and TOOL even though the amount of available apps from these categories are twice as much lesser than the category FAMILY but still used most. The trending of these apps are most probably due to their nature of being able to entertain or assist the user. Besides, it also shows a good trend where we can see that developers from these categories are focusing on the quality instead of the quantity of the apps.\n",
        "\n",
        "Other than that, the charts shown above actually implies that most of the apps having good ratings of above 4.0 are mostly confirmed to have high amount of reviews and user installs. The size and price shouldn't reflect that apps with high rating are mostly big in size and pricy as by looking at the graphs they are most probably are due to some minority. Futhermore, most of the apps that are having high amount of reviews are from the categories of SOCIAL, COMMUNICATION and GAME like Facebook, WhatsApp Messenger, Instagram, Messenger – Text and Video Chat for Free, Clash of Clans ,google apps etc.\n",
        "\n",
        "Eventhough apps from the categories like GAME, SOCIAL, COMMUNICATION and TOOL of having the highest amount of installs, rating and reviews are reflecting the current trend of Android users, they are not even appearing as category in the top 5 most expensive apps in the store . As a conclsuion, we learnt that the current trend in the Android market are mostly from these categories which either assisting, communicating or entertaining apps.\n",
        "\n",
        "Some important point:- Average rating of (active) apps on Google Play Store is 4.17.\n",
        "\n",
        "If we see individually app wise the communicatation app like facebook and whatsup get highly reviewed app it shown that people regulary active on that and give there feedback also on that.\n",
        "\n",
        "Medical and Family apps are the most expensive and even extend upto 80$. Users tend to download a given app more if it has been reviewed by a large number of people.\n",
        "\n",
        "More than half users rate Family, Sports and Health & Fitness apps positively. Apps for games and social media get mixed reviews, with 50 percent positive and 50 percent negative responses."
      ],
      "metadata": {
        "id": "pASKb0qOza21"
      }
    },
    {
      "cell_type": "markdown",
      "source": [
        "# **Conclusion**"
      ],
      "metadata": {
        "id": "gCX9965dhzqZ"
      }
    },
    {
      "cell_type": "markdown",
      "source": [
        "In this project of analyzing play store applications, we have worked on several parameters which would help our client to do well in launching their apps on the play store.\n",
        "\n",
        "In the initial phase, we focused more on the problem statements and data cleaning, in order to ensure that we give them the best results out of our analysis.\n",
        "\n",
        "Conclusion :\n",
        "\n",
        "Developing apps related to the least categories as they are not explored much. Like events and beauty.\n",
        "\n",
        "Most of the apps are Free, so focusing on free app is more important.\n",
        "\n",
        "Focusing more on content available for Everyone will increase the chances of getting the highest installs.\n",
        "\n",
        "They need to focus on updating their apps regularly, so that it will attract more users.\n",
        "\n",
        "They need to keep in mind that the sentiments of the user keep varying as they keep using the app, so they should focus more on users needs and features.\n",
        "\n",
        "Percentage of free apps = ~92%\n",
        "\n",
        "Percentage of apps with no age restrictions = ~82%\n",
        "\n",
        "Most competitive category: Family\n",
        "\n",
        "Category with the highest average app installs: Game\n",
        "\n",
        "Percentage of apps that are top rated = ~80%\n",
        "\n",
        "Family, Game and Tools are top three categories having 1906, 926 and 829 app count.\n",
        "\n",
        "Tools, Entertainment, Education, Buisness and Medical are top Genres.\n",
        "\n",
        "8783 Apps are having size less than 50 MB. 7749 Apps are having rating more than 4.0 including both type of apps.\n",
        "\n",
        "There are 20 free apps that have been installed over a billion times.\n",
        "\n",
        "Minecraft is the only app in the paid category with over 10M installs. This app has also produced the most revenue only from the installation fee.\n",
        "\n",
        "Category in which the paid apps have the highest average installation fee: Finance The median size of all apps in the play store is 12 MB.\n",
        "\n",
        "The apps whose size varies with device has the highest number average app installs.\n",
        "\n",
        "The apps whose size is greater than 90 MB has the highest number of average user reviews, ie, they are more popular than the rest.\n",
        "\n",
        "Helix Jump has the highest number of positive reviews and Angry Birds Classic has the highest number of negative reviews.\n",
        "\n",
        "Overall sentiment count of merged dataset in which Positive sentiment count is 64%, Negative 22% and Neutral 13%.\n",
        "\n",
        "1.Rating\n",
        "\n",
        "Most of the apps have rating in between 4 and 5.\n",
        "\n",
        "Most numbers of apps are rated at 4.3\n",
        "\n",
        "Categories of apps have more than 4 average rating.item\n",
        "\n",
        "2.Size\n",
        "\n",
        "Maximum number of applications present in the dataset are of small size.\n",
        "\n",
        "3.Installs\n",
        "\n",
        "Majority of the apps come into these three categories, Family, Game, and Tools.\n",
        "\n",
        "Maximum number of apps present in google play store come under Family, Game and tools but as per the installation and requirement in the market plot, scenario is not the same. Maximum installed apps comes under Game, Communication, Productivity and Social.\n",
        "\n",
        "Subway Surfers, Facebook, Messenger and Google Drive are the most installed apps.\n",
        "\n",
        "4.Type(Free/Paid)\n",
        "\n",
        "About 92% apps are free and 8% apps are of paid type.\n",
        "\n",
        "The category ‘Family’ has the highest number of paid apps.\n",
        "\n",
        "Free apps are installed more than paid apps.\n",
        "\n",
        "The app “I’m Rich — Trump Edition” from the category ‘Lifestyle’ is the most costly app priced at $400\n",
        "\n",
        "5.Content Rating\n",
        "\n",
        "Content having Everyone only has most installs, while unrated and Adults only 18+ have less installs.\n",
        "\n",
        "6.Reviews\n",
        "\n",
        "Number of installs is positively correlated with reviews with correlation 0.64. Sentiment Analysis\n",
        "\n",
        "7.Sentiment\n",
        "\n",
        "Most of the reviews are of Positive Sentiment, while Negative and Neutral have low number of reviews.\n",
        "\n",
        "8.Sentiment Polarity / Sentiment Subjectivity\n",
        "\n",
        "Collection of reviews shows a wide range of subjectivity and most of the reviews fall in [-0.50,0.75] polarity scale implying that the extremely negative or positive sentiments are significantly low. Most of the reviews show a mid-range of negative and positive sentiments.\n",
        "\n",
        "Sentiment subjectivity is not always proportional to sentiment polarity but in maximum number of case, shows a proportional behavior, when variance is too high or low.\n",
        "\n",
        "Sentiment Polarity is not highly correlated with Sentiment Subjectivity."
      ],
      "metadata": {
        "id": "Fjb1IsQkh3yE"
      }
    },
    {
      "cell_type": "markdown",
      "source": [
        "### ***Hurrah! You have successfully completed your EDA Capstone Project !!!***"
      ],
      "metadata": {
        "id": "gIfDvo9L0UH2"
      }
    }
  ]
}